{
 "cells": [
  {
   "cell_type": "code",
   "execution_count": 1,
   "metadata": {},
   "outputs": [],
   "source": [
    "import pandas as pd\n",
    "import random\n",
    "import requests # 网页内容获取\n",
    "import re # 解析数据\n",
    "from lxml import etree # 解析数据\n",
    "import time # 反反爬"
   ]
  },
  {
   "cell_type": "code",
   "execution_count": 2,
   "metadata": {},
   "outputs": [],
   "source": [
    "\n",
    "session = requests.Session()  # 使用会话对象\n",
    "def ua():\n",
    "    \"\"\"随机获取一个浏览器用户信息\"\"\"\n",
    "    \n",
    "    user_agents = [\n",
    "    'Mozilla/5.0 (Windows; U; Windows NT 5.1; it; rv:1.8.1.11) Gecko/20071127 Firefox/2.0.0.11',\n",
    "    'Opera/9.25 (Windows NT 5.1; U; en)',\n",
    "    'Mozilla/4.0 (compatible; MSIE 6.0; Windows NT 5.1; SV1; .NET CLR 1.1.4322; .NET CLR 2.0.50727)',\n",
    "    'Mozilla/5.0 (compatible; Konqueror/3.5; Linux) KHTML/3.5.5 (like Gecko) (Kubuntu)',\n",
    "    'Mozilla/5.0 (X11; U; Linux i686; en-US; rv:1.8.0.12) Gecko/20070731 Ubuntu/dapper-security Firefox/1.5.0.12',\n",
    "    'Lynx/2.8.5rel.1 libwww-FM/2.14 SSL-MM/1.4.1 GNUTLS/1.2.9',\n",
    "    'Mozilla/5.0 (X11; Linux i686) AppleWebKit/535.7 (KHTML, like Gecko) Ubuntu/11.04 Chromium/16.0.912.77 Chrome/16.0.912.77 Safari/535.7',\n",
    "    'Mozilla/5.0 (X11; Ubuntu; Linux i686; rv:10.0) Gecko/20100101 Firefox/10.0',\n",
    "    ]\n",
    "\n",
    "    return {'User-Agent': random.choice(user_agents)}\n",
    "\n",
    "\n",
    "def get(url):\n",
    "    \"\"\"\n",
    "    获取网页源码\n",
    "    url: 目标网页的地址\n",
    "    return:网页源码\n",
    "    \"\"\"\n",
    "    res = requests.get(url=url, headers = ua())\n",
    "    return res.text\n",
    "\n",
    "def get_url(res_text):\n",
    "    \"\"\"\n",
    "    获取源码中每个二手房详情页的url\n",
    "    res_text:网页源码\n",
    "    return:列表形式的30个二手房详情页的url\n",
    "    \"\"\"\n",
    "    re_f = '<a class=\"\" href=\"(.*?)\" target=\"_blank\"'\n",
    "    url_list = re.findall(re_f, res_text)\n",
    "    return url_list"
   ]
  },
  {
   "cell_type": "code",
   "execution_count": 3,
   "metadata": {},
   "outputs": [
    {
     "data": {
      "text/plain": [
       "['https://bj.lianjia.com/ershoufang/101121960406.html',\n",
       " 'https://bj.lianjia.com/ershoufang/101122041372.html',\n",
       " 'https://bj.lianjia.com/ershoufang/101122021175.html',\n",
       " 'https://bj.lianjia.com/ershoufang/101122021423.html',\n",
       " 'https://bj.lianjia.com/ershoufang/101121940866.html',\n",
       " 'https://bj.lianjia.com/ershoufang/101122008184.html',\n",
       " 'https://bj.lianjia.com/ershoufang/101122003570.html',\n",
       " 'https://bj.lianjia.com/ershoufang/101122031981.html',\n",
       " 'https://bj.lianjia.com/ershoufang/101122020423.html',\n",
       " 'https://bj.lianjia.com/ershoufang/101122021903.html',\n",
       " 'https://bj.lianjia.com/ershoufang/101121750144.html',\n",
       " 'https://bj.lianjia.com/ershoufang/101121771922.html',\n",
       " 'https://bj.lianjia.com/ershoufang/101121818465.html',\n",
       " 'https://bj.lianjia.com/ershoufang/101121749239.html',\n",
       " 'https://bj.lianjia.com/ershoufang/101121894370.html',\n",
       " 'https://bj.lianjia.com/ershoufang/101121708503.html',\n",
       " 'https://bj.lianjia.com/ershoufang/101121873126.html',\n",
       " 'https://bj.lianjia.com/ershoufang/101120574551.html',\n",
       " 'https://bj.lianjia.com/ershoufang/101118830696.html',\n",
       " 'https://bj.lianjia.com/ershoufang/101119840856.html',\n",
       " 'https://bj.lianjia.com/ershoufang/101121856465.html',\n",
       " 'https://bj.lianjia.com/ershoufang/101121942736.html',\n",
       " 'https://bj.lianjia.com/ershoufang/101121917911.html',\n",
       " 'https://bj.lianjia.com/ershoufang/101121947905.html',\n",
       " 'https://bj.lianjia.com/ershoufang/101122002877.html',\n",
       " 'https://bj.lianjia.com/ershoufang/101121947249.html',\n",
       " 'https://bj.lianjia.com/ershoufang/101122036340.html',\n",
       " 'https://bj.lianjia.com/ershoufang/101121841561.html',\n",
       " 'https://bj.lianjia.com/ershoufang/101121839857.html',\n",
       " 'https://bj.lianjia.com/ershoufang/101121758026.html']"
      ]
     },
     "execution_count": 3,
     "metadata": {},
     "output_type": "execute_result"
    }
   ],
   "source": [
    "url ='https://bj.lianjia.com/ershoufang/dongcheng/pg1/'\n",
    "resp = get(url)\n",
    "url_list = get_url(resp)\n",
    "url_list"
   ]
  },
  {
   "cell_type": "code",
   "execution_count": 4,
   "metadata": {},
   "outputs": [],
   "source": [
    "def get_else_data(res_text):\n",
    "    \n",
    "    res_text = etree.HTML(res_text)\n",
    "    \n",
    "    title = res_text.xpath(\"//div[@class='sellDetailHeader']//h1/@title\")\n",
    "\n",
    "    return dict(zip(['标题'], [title]))\n",
    "\n",
    "def get_data(res_text):\n",
    "    \"\"\"获取房屋的详细数据\"\"\"\n",
    "    res_text = etree.HTML(res_text)\n",
    "    \n",
    "    # 获取房屋的标题\n",
    "    title = res_text.xpath(\"//div[@class='sellDetailHeader']//h1/@title\")\n",
    "    # 获取房屋的总价\n",
    "    total_price = res_text.xpath(\"//div[@class='overview']//div/span/text()\")[2]\n",
    "    # 获取房屋的单价\n",
    "    price = res_text.xpath(\"//div[@class='overview']//div/span/text()\")[3]\n",
    "    # 获取房屋的地段\n",
    "    place = res_text.xpath(\"//div[@class='overview']//div/span/a/text()\")\n",
    "    \n",
    "    ## 房屋基本信息获取\n",
    "    # 获取房屋基本信息的标题\n",
    "    lab = res_text.xpath(\"//div[@class='base']//span/text()\")\n",
    "    # 获取房屋基本信息的内容\n",
    "    val = res_text.xpath(\"//div[@class='base']//li/text()\")\n",
    "    \n",
    "    ## 获取房源交易信息\n",
    "    # 获取房源交易标题\n",
    "    key1 = res_text.xpath(\"//div[@class='transaction']//span[1]//text()\")\n",
    "    # 获取房源交易信息内容\n",
    "    trans = res_text.xpath(\"//div[@class='transaction']//span[2]//text()\")\n",
    "\n",
    "    ## 获取房源特色信息\n",
    "    # 获取房源特色标题\n",
    "    key = res_text.xpath(\"//div[@class='baseattribute clear']/div[@class='name']/text()\")\n",
    "    # 获取房源特色内容\n",
    "    val1 = res_text.xpath(\"//div[@class='baseattribute clear']/div[@class='content']/text()\")\n",
    "    \n",
    "    # 返回包含上述信息的字典\n",
    "    return dict(zip(['标题', '总价格', '单价', '地段'] + lab + key1 + key,\n",
    "                    [title, total_price, price, place] + val + trans + val1))\n"
   ]
  },
  {
   "cell_type": "code",
   "execution_count": 5,
   "metadata": {},
   "outputs": [
    {
     "data": {
      "text/plain": [
       "{'标题': ['中海紫御公馆采光好大阳台，南向两居'],\n",
       " '总价格': '1050',\n",
       " '单价': '116564',\n",
       " '地段': ['东城', '陶然亭'],\n",
       " '房屋户型': '2室2厅1厨1卫',\n",
       " '所在楼层': '低楼层 (共17层)',\n",
       " '建筑面积': '90.08㎡',\n",
       " '户型结构': '平层',\n",
       " '套内面积': '71.79㎡',\n",
       " '建筑类型': '板塔结合',\n",
       " '房屋朝向': '南',\n",
       " '建筑结构': '钢混结构',\n",
       " '装修情况': '精装',\n",
       " '梯户比例': '两梯六户',\n",
       " '供暖方式': '集中供暖',\n",
       " '配备电梯': '有',\n",
       " '挂牌时间': '2023-11-17',\n",
       " '交易权属': '商品房',\n",
       " '上次交易': '2012-03-26',\n",
       " '房屋用途': '普通住宅',\n",
       " '房屋年限': '满五年',\n",
       " '产权所属': '非共有',\n",
       " '抵押信息': '\\n                                无抵押\\n                              ',\n",
       " '房本备件': '已上传房本照片',\n",
       " '核心卖点': '\\n                    低总价，房子虽然在三层，但是南向的采光没有大的影响\\n                  ',\n",
       " '小区介绍': '\\n                    中海紫御公馆是中海2010年在东城打造的高品质楼盘，小区楼间距大，外立面干挂石材现在看也和新房一样，人车分流，每个单元门口都有小喷泉，中海自持物业物业费3.28\\n                  ',\n",
       " '户型介绍': '\\n                    户型方正的南向两居，阳台面积比楼上的同户型都要大好多，两个南向的房间都很大，可以放大双人床和衣柜，明厨明卫\\n                  ',\n",
       " '装修描述': '\\n                    房子是2010年毛坯交房，新业主买过来需要重新装修了，户型方正，格局合理，采光充足\\n                  '}"
      ]
     },
     "execution_count": 5,
     "metadata": {},
     "output_type": "execute_result"
    }
   ],
   "source": [
    "url_list =\"https://bj.lianjia.com/ershoufang/101121960406.html\"\n",
    "t_resp = get(url_list)\n",
    "get_data(t_resp)"
   ]
  },
  {
   "cell_type": "code",
   "execution_count": 6,
   "metadata": {},
   "outputs": [],
   "source": [
    "\n",
    "def main(qu, start_pg=1, end_pg=100, download_times=1, max_data_count=1100):\n",
    "    for q in qu:\n",
    "        url = 'https://bj.lianjia.com/ershoufang/' + q + '/'\n",
    "        data = []\n",
    "        filename = f'二手房-{q}第{download_times}次下载.csv'\n",
    "        data_count = 0\n",
    "        resume_pg = start_pg\n",
    "\n",
    "        for i in range(start_pg, end_pg + 1):\n",
    "            if data_count >= max_data_count:\n",
    "                break\n",
    "\n",
    "            new_url = url + f'pg{i}/'\n",
    "            a_new_url = get(new_url)\n",
    "            url_list = get_url(a_new_url)\n",
    "            time.sleep(random.uniform(1, 2))  # 调整等待时间\n",
    "\n",
    "            for url_item in url_list:\n",
    "                if data_count >= max_data_count:\n",
    "                    break\n",
    "\n",
    "                text = get(url_item)\n",
    "                data.append(get_data(text))\n",
    "                data_count += 1\n",
    "\n",
    "            resume_pg = i\n",
    "            time.sleep(random.uniform(2, 4))  # 调整等待时间\n",
    "\n",
    "            if i % 5 == 0:\n",
    "                pd.DataFrame(data).to_csv(filename, encoding='GB18030')\n",
    "                print(f'前{i}页数据已保存')\n",
    "\n",
    "        with open(f'resume_{q}.txt', 'w') as f:\n",
    "            f.write(str(resume_pg))\n"
   ]
  },
  {
   "cell_type": "code",
   "execution_count": 7,
   "metadata": {},
   "outputs": [
    {
     "ename": "KeyboardInterrupt",
     "evalue": "",
     "output_type": "error",
     "traceback": [
      "\u001b[1;31m---------------------------------------------------------------------------\u001b[0m",
      "\u001b[1;31mKeyboardInterrupt\u001b[0m                         Traceback (most recent call last)",
      "Cell \u001b[1;32mIn[7], line 1\u001b[0m\n\u001b[1;32m----> 1\u001b[0m main([\u001b[39m'\u001b[39;49m\u001b[39mdongcheng\u001b[39;49m\u001b[39m'\u001b[39;49m, \u001b[39m'\u001b[39;49m\u001b[39mhaidian\u001b[39;49m\u001b[39m'\u001b[39;49m, \u001b[39m'\u001b[39;49m\u001b[39mtongzhou\u001b[39;49m\u001b[39m'\u001b[39;49m, \u001b[39m'\u001b[39;49m\u001b[39mhuairou\u001b[39;49m\u001b[39m'\u001b[39;49m])\n",
      "Cell \u001b[1;32mIn[6], line 22\u001b[0m, in \u001b[0;36mmain\u001b[1;34m(qu, start_pg, end_pg, download_times, max_data_count)\u001b[0m\n\u001b[0;32m     19\u001b[0m \u001b[39mif\u001b[39;00m data_count \u001b[39m>\u001b[39m\u001b[39m=\u001b[39m max_data_count:\n\u001b[0;32m     20\u001b[0m     \u001b[39mbreak\u001b[39;00m\n\u001b[1;32m---> 22\u001b[0m text \u001b[39m=\u001b[39m get(url_item)\n\u001b[0;32m     23\u001b[0m data\u001b[39m.\u001b[39mappend(get_data(text))\n\u001b[0;32m     24\u001b[0m data_count \u001b[39m+\u001b[39m\u001b[39m=\u001b[39m \u001b[39m1\u001b[39m\n",
      "Cell \u001b[1;32mIn[2], line 25\u001b[0m, in \u001b[0;36mget\u001b[1;34m(url)\u001b[0m\n\u001b[0;32m     19\u001b[0m \u001b[39mdef\u001b[39;00m \u001b[39mget\u001b[39m(url):\n\u001b[0;32m     20\u001b[0m \u001b[39m    \u001b[39m\u001b[39m\"\"\"\u001b[39;00m\n\u001b[0;32m     21\u001b[0m \u001b[39m    获取网页源码\u001b[39;00m\n\u001b[0;32m     22\u001b[0m \u001b[39m    url: 目标网页的地址\u001b[39;00m\n\u001b[0;32m     23\u001b[0m \u001b[39m    return:网页源码\u001b[39;00m\n\u001b[0;32m     24\u001b[0m \u001b[39m    \"\"\"\u001b[39;00m\n\u001b[1;32m---> 25\u001b[0m     res \u001b[39m=\u001b[39m requests\u001b[39m.\u001b[39;49mget(url\u001b[39m=\u001b[39;49murl, headers \u001b[39m=\u001b[39;49m ua())\n\u001b[0;32m     26\u001b[0m     \u001b[39mreturn\u001b[39;00m res\u001b[39m.\u001b[39mtext\n",
      "File \u001b[1;32mf:\\python\\lib\\site-packages\\requests\\api.py:73\u001b[0m, in \u001b[0;36mget\u001b[1;34m(url, params, **kwargs)\u001b[0m\n\u001b[0;32m     62\u001b[0m \u001b[39mdef\u001b[39;00m \u001b[39mget\u001b[39m(url, params\u001b[39m=\u001b[39m\u001b[39mNone\u001b[39;00m, \u001b[39m*\u001b[39m\u001b[39m*\u001b[39mkwargs):\n\u001b[0;32m     63\u001b[0m \u001b[39m    \u001b[39m\u001b[39mr\u001b[39m\u001b[39m\"\"\"Sends a GET request.\u001b[39;00m\n\u001b[0;32m     64\u001b[0m \n\u001b[0;32m     65\u001b[0m \u001b[39m    :param url: URL for the new :class:`Request` object.\u001b[39;00m\n\u001b[1;32m   (...)\u001b[0m\n\u001b[0;32m     70\u001b[0m \u001b[39m    :rtype: requests.Response\u001b[39;00m\n\u001b[0;32m     71\u001b[0m \u001b[39m    \"\"\"\u001b[39;00m\n\u001b[1;32m---> 73\u001b[0m     \u001b[39mreturn\u001b[39;00m request(\u001b[39m\"\u001b[39m\u001b[39mget\u001b[39m\u001b[39m\"\u001b[39m, url, params\u001b[39m=\u001b[39mparams, \u001b[39m*\u001b[39m\u001b[39m*\u001b[39mkwargs)\n",
      "File \u001b[1;32mf:\\python\\lib\\site-packages\\requests\\api.py:59\u001b[0m, in \u001b[0;36mrequest\u001b[1;34m(method, url, **kwargs)\u001b[0m\n\u001b[0;32m     55\u001b[0m \u001b[39m# By using the 'with' statement we are sure the session is closed, thus we\u001b[39;00m\n\u001b[0;32m     56\u001b[0m \u001b[39m# avoid leaving sockets open which can trigger a ResourceWarning in some\u001b[39;00m\n\u001b[0;32m     57\u001b[0m \u001b[39m# cases, and look like a memory leak in others.\u001b[39;00m\n\u001b[0;32m     58\u001b[0m \u001b[39mwith\u001b[39;00m sessions\u001b[39m.\u001b[39mSession() \u001b[39mas\u001b[39;00m session:\n\u001b[1;32m---> 59\u001b[0m     \u001b[39mreturn\u001b[39;00m session\u001b[39m.\u001b[39mrequest(method\u001b[39m=\u001b[39mmethod, url\u001b[39m=\u001b[39murl, \u001b[39m*\u001b[39m\u001b[39m*\u001b[39mkwargs)\n",
      "File \u001b[1;32mf:\\python\\lib\\site-packages\\requests\\sessions.py:589\u001b[0m, in \u001b[0;36mSession.request\u001b[1;34m(self, method, url, params, data, headers, cookies, files, auth, timeout, allow_redirects, proxies, hooks, stream, verify, cert, json)\u001b[0m\n\u001b[0;32m    584\u001b[0m send_kwargs \u001b[39m=\u001b[39m {\n\u001b[0;32m    585\u001b[0m     \u001b[39m\"\u001b[39m\u001b[39mtimeout\u001b[39m\u001b[39m\"\u001b[39m: timeout,\n\u001b[0;32m    586\u001b[0m     \u001b[39m\"\u001b[39m\u001b[39mallow_redirects\u001b[39m\u001b[39m\"\u001b[39m: allow_redirects,\n\u001b[0;32m    587\u001b[0m }\n\u001b[0;32m    588\u001b[0m send_kwargs\u001b[39m.\u001b[39mupdate(settings)\n\u001b[1;32m--> 589\u001b[0m resp \u001b[39m=\u001b[39m \u001b[39mself\u001b[39m\u001b[39m.\u001b[39msend(prep, \u001b[39m*\u001b[39m\u001b[39m*\u001b[39msend_kwargs)\n\u001b[0;32m    591\u001b[0m \u001b[39mreturn\u001b[39;00m resp\n",
      "File \u001b[1;32mf:\\python\\lib\\site-packages\\requests\\sessions.py:703\u001b[0m, in \u001b[0;36mSession.send\u001b[1;34m(self, request, **kwargs)\u001b[0m\n\u001b[0;32m    700\u001b[0m start \u001b[39m=\u001b[39m preferred_clock()\n\u001b[0;32m    702\u001b[0m \u001b[39m# Send the request\u001b[39;00m\n\u001b[1;32m--> 703\u001b[0m r \u001b[39m=\u001b[39m adapter\u001b[39m.\u001b[39msend(request, \u001b[39m*\u001b[39m\u001b[39m*\u001b[39mkwargs)\n\u001b[0;32m    705\u001b[0m \u001b[39m# Total elapsed time of the request (approximately)\u001b[39;00m\n\u001b[0;32m    706\u001b[0m elapsed \u001b[39m=\u001b[39m preferred_clock() \u001b[39m-\u001b[39m start\n",
      "File \u001b[1;32mf:\\python\\lib\\site-packages\\requests\\adapters.py:486\u001b[0m, in \u001b[0;36mHTTPAdapter.send\u001b[1;34m(self, request, stream, timeout, verify, cert, proxies)\u001b[0m\n\u001b[0;32m    483\u001b[0m     timeout \u001b[39m=\u001b[39m TimeoutSauce(connect\u001b[39m=\u001b[39mtimeout, read\u001b[39m=\u001b[39mtimeout)\n\u001b[0;32m    485\u001b[0m \u001b[39mtry\u001b[39;00m:\n\u001b[1;32m--> 486\u001b[0m     resp \u001b[39m=\u001b[39m conn\u001b[39m.\u001b[39;49murlopen(\n\u001b[0;32m    487\u001b[0m         method\u001b[39m=\u001b[39;49mrequest\u001b[39m.\u001b[39;49mmethod,\n\u001b[0;32m    488\u001b[0m         url\u001b[39m=\u001b[39;49murl,\n\u001b[0;32m    489\u001b[0m         body\u001b[39m=\u001b[39;49mrequest\u001b[39m.\u001b[39;49mbody,\n\u001b[0;32m    490\u001b[0m         headers\u001b[39m=\u001b[39;49mrequest\u001b[39m.\u001b[39;49mheaders,\n\u001b[0;32m    491\u001b[0m         redirect\u001b[39m=\u001b[39;49m\u001b[39mFalse\u001b[39;49;00m,\n\u001b[0;32m    492\u001b[0m         assert_same_host\u001b[39m=\u001b[39;49m\u001b[39mFalse\u001b[39;49;00m,\n\u001b[0;32m    493\u001b[0m         preload_content\u001b[39m=\u001b[39;49m\u001b[39mFalse\u001b[39;49;00m,\n\u001b[0;32m    494\u001b[0m         decode_content\u001b[39m=\u001b[39;49m\u001b[39mFalse\u001b[39;49;00m,\n\u001b[0;32m    495\u001b[0m         retries\u001b[39m=\u001b[39;49m\u001b[39mself\u001b[39;49m\u001b[39m.\u001b[39;49mmax_retries,\n\u001b[0;32m    496\u001b[0m         timeout\u001b[39m=\u001b[39;49mtimeout,\n\u001b[0;32m    497\u001b[0m         chunked\u001b[39m=\u001b[39;49mchunked,\n\u001b[0;32m    498\u001b[0m     )\n\u001b[0;32m    500\u001b[0m \u001b[39mexcept\u001b[39;00m (ProtocolError, \u001b[39mOSError\u001b[39;00m) \u001b[39mas\u001b[39;00m err:\n\u001b[0;32m    501\u001b[0m     \u001b[39mraise\u001b[39;00m \u001b[39mConnectionError\u001b[39;00m(err, request\u001b[39m=\u001b[39mrequest)\n",
      "File \u001b[1;32mf:\\python\\lib\\site-packages\\urllib3\\connectionpool.py:715\u001b[0m, in \u001b[0;36mHTTPConnectionPool.urlopen\u001b[1;34m(self, method, url, body, headers, retries, redirect, assert_same_host, timeout, pool_timeout, release_conn, chunked, body_pos, **response_kw)\u001b[0m\n\u001b[0;32m    712\u001b[0m     \u001b[39mself\u001b[39m\u001b[39m.\u001b[39m_prepare_proxy(conn)\n\u001b[0;32m    714\u001b[0m \u001b[39m# Make the request on the httplib connection object.\u001b[39;00m\n\u001b[1;32m--> 715\u001b[0m httplib_response \u001b[39m=\u001b[39m \u001b[39mself\u001b[39;49m\u001b[39m.\u001b[39;49m_make_request(\n\u001b[0;32m    716\u001b[0m     conn,\n\u001b[0;32m    717\u001b[0m     method,\n\u001b[0;32m    718\u001b[0m     url,\n\u001b[0;32m    719\u001b[0m     timeout\u001b[39m=\u001b[39;49mtimeout_obj,\n\u001b[0;32m    720\u001b[0m     body\u001b[39m=\u001b[39;49mbody,\n\u001b[0;32m    721\u001b[0m     headers\u001b[39m=\u001b[39;49mheaders,\n\u001b[0;32m    722\u001b[0m     chunked\u001b[39m=\u001b[39;49mchunked,\n\u001b[0;32m    723\u001b[0m )\n\u001b[0;32m    725\u001b[0m \u001b[39m# If we're going to release the connection in ``finally:``, then\u001b[39;00m\n\u001b[0;32m    726\u001b[0m \u001b[39m# the response doesn't need to know about the connection. Otherwise\u001b[39;00m\n\u001b[0;32m    727\u001b[0m \u001b[39m# it will also try to release it and we'll have a double-release\u001b[39;00m\n\u001b[0;32m    728\u001b[0m \u001b[39m# mess.\u001b[39;00m\n\u001b[0;32m    729\u001b[0m response_conn \u001b[39m=\u001b[39m conn \u001b[39mif\u001b[39;00m \u001b[39mnot\u001b[39;00m release_conn \u001b[39melse\u001b[39;00m \u001b[39mNone\u001b[39;00m\n",
      "File \u001b[1;32mf:\\python\\lib\\site-packages\\urllib3\\connectionpool.py:467\u001b[0m, in \u001b[0;36mHTTPConnectionPool._make_request\u001b[1;34m(self, conn, method, url, timeout, chunked, **httplib_request_kw)\u001b[0m\n\u001b[0;32m    462\u001b[0m             httplib_response \u001b[39m=\u001b[39m conn\u001b[39m.\u001b[39mgetresponse()\n\u001b[0;32m    463\u001b[0m         \u001b[39mexcept\u001b[39;00m \u001b[39mBaseException\u001b[39;00m \u001b[39mas\u001b[39;00m e:\n\u001b[0;32m    464\u001b[0m             \u001b[39m# Remove the TypeError from the exception chain in\u001b[39;00m\n\u001b[0;32m    465\u001b[0m             \u001b[39m# Python 3 (including for exceptions like SystemExit).\u001b[39;00m\n\u001b[0;32m    466\u001b[0m             \u001b[39m# Otherwise it looks like a bug in the code.\u001b[39;00m\n\u001b[1;32m--> 467\u001b[0m             six\u001b[39m.\u001b[39;49mraise_from(e, \u001b[39mNone\u001b[39;49;00m)\n\u001b[0;32m    468\u001b[0m \u001b[39mexcept\u001b[39;00m (SocketTimeout, BaseSSLError, SocketError) \u001b[39mas\u001b[39;00m e:\n\u001b[0;32m    469\u001b[0m     \u001b[39mself\u001b[39m\u001b[39m.\u001b[39m_raise_timeout(err\u001b[39m=\u001b[39me, url\u001b[39m=\u001b[39murl, timeout_value\u001b[39m=\u001b[39mread_timeout)\n",
      "File \u001b[1;32m<string>:3\u001b[0m, in \u001b[0;36mraise_from\u001b[1;34m(value, from_value)\u001b[0m\n",
      "File \u001b[1;32mf:\\python\\lib\\site-packages\\urllib3\\connectionpool.py:462\u001b[0m, in \u001b[0;36mHTTPConnectionPool._make_request\u001b[1;34m(self, conn, method, url, timeout, chunked, **httplib_request_kw)\u001b[0m\n\u001b[0;32m    459\u001b[0m \u001b[39mexcept\u001b[39;00m \u001b[39mTypeError\u001b[39;00m:\n\u001b[0;32m    460\u001b[0m     \u001b[39m# Python 3\u001b[39;00m\n\u001b[0;32m    461\u001b[0m     \u001b[39mtry\u001b[39;00m:\n\u001b[1;32m--> 462\u001b[0m         httplib_response \u001b[39m=\u001b[39m conn\u001b[39m.\u001b[39;49mgetresponse()\n\u001b[0;32m    463\u001b[0m     \u001b[39mexcept\u001b[39;00m \u001b[39mBaseException\u001b[39;00m \u001b[39mas\u001b[39;00m e:\n\u001b[0;32m    464\u001b[0m         \u001b[39m# Remove the TypeError from the exception chain in\u001b[39;00m\n\u001b[0;32m    465\u001b[0m         \u001b[39m# Python 3 (including for exceptions like SystemExit).\u001b[39;00m\n\u001b[0;32m    466\u001b[0m         \u001b[39m# Otherwise it looks like a bug in the code.\u001b[39;00m\n\u001b[0;32m    467\u001b[0m         six\u001b[39m.\u001b[39mraise_from(e, \u001b[39mNone\u001b[39;00m)\n",
      "File \u001b[1;32mf:\\python\\lib\\http\\client.py:1377\u001b[0m, in \u001b[0;36mHTTPConnection.getresponse\u001b[1;34m(self)\u001b[0m\n\u001b[0;32m   1375\u001b[0m \u001b[39mtry\u001b[39;00m:\n\u001b[0;32m   1376\u001b[0m     \u001b[39mtry\u001b[39;00m:\n\u001b[1;32m-> 1377\u001b[0m         response\u001b[39m.\u001b[39;49mbegin()\n\u001b[0;32m   1378\u001b[0m     \u001b[39mexcept\u001b[39;00m \u001b[39mConnectionError\u001b[39;00m:\n\u001b[0;32m   1379\u001b[0m         \u001b[39mself\u001b[39m\u001b[39m.\u001b[39mclose()\n",
      "File \u001b[1;32mf:\\python\\lib\\http\\client.py:320\u001b[0m, in \u001b[0;36mHTTPResponse.begin\u001b[1;34m(self)\u001b[0m\n\u001b[0;32m    318\u001b[0m \u001b[39m# read until we get a non-100 response\u001b[39;00m\n\u001b[0;32m    319\u001b[0m \u001b[39mwhile\u001b[39;00m \u001b[39mTrue\u001b[39;00m:\n\u001b[1;32m--> 320\u001b[0m     version, status, reason \u001b[39m=\u001b[39m \u001b[39mself\u001b[39;49m\u001b[39m.\u001b[39;49m_read_status()\n\u001b[0;32m    321\u001b[0m     \u001b[39mif\u001b[39;00m status \u001b[39m!=\u001b[39m CONTINUE:\n\u001b[0;32m    322\u001b[0m         \u001b[39mbreak\u001b[39;00m\n",
      "File \u001b[1;32mf:\\python\\lib\\http\\client.py:281\u001b[0m, in \u001b[0;36mHTTPResponse._read_status\u001b[1;34m(self)\u001b[0m\n\u001b[0;32m    280\u001b[0m \u001b[39mdef\u001b[39;00m \u001b[39m_read_status\u001b[39m(\u001b[39mself\u001b[39m):\n\u001b[1;32m--> 281\u001b[0m     line \u001b[39m=\u001b[39m \u001b[39mstr\u001b[39m(\u001b[39mself\u001b[39;49m\u001b[39m.\u001b[39;49mfp\u001b[39m.\u001b[39;49mreadline(_MAXLINE \u001b[39m+\u001b[39;49m \u001b[39m1\u001b[39;49m), \u001b[39m\"\u001b[39m\u001b[39miso-8859-1\u001b[39m\u001b[39m\"\u001b[39m)\n\u001b[0;32m    282\u001b[0m     \u001b[39mif\u001b[39;00m \u001b[39mlen\u001b[39m(line) \u001b[39m>\u001b[39m _MAXLINE:\n\u001b[0;32m    283\u001b[0m         \u001b[39mraise\u001b[39;00m LineTooLong(\u001b[39m\"\u001b[39m\u001b[39mstatus line\u001b[39m\u001b[39m\"\u001b[39m)\n",
      "File \u001b[1;32mf:\\python\\lib\\socket.py:704\u001b[0m, in \u001b[0;36mSocketIO.readinto\u001b[1;34m(self, b)\u001b[0m\n\u001b[0;32m    702\u001b[0m \u001b[39mwhile\u001b[39;00m \u001b[39mTrue\u001b[39;00m:\n\u001b[0;32m    703\u001b[0m     \u001b[39mtry\u001b[39;00m:\n\u001b[1;32m--> 704\u001b[0m         \u001b[39mreturn\u001b[39;00m \u001b[39mself\u001b[39;49m\u001b[39m.\u001b[39;49m_sock\u001b[39m.\u001b[39;49mrecv_into(b)\n\u001b[0;32m    705\u001b[0m     \u001b[39mexcept\u001b[39;00m timeout:\n\u001b[0;32m    706\u001b[0m         \u001b[39mself\u001b[39m\u001b[39m.\u001b[39m_timeout_occurred \u001b[39m=\u001b[39m \u001b[39mTrue\u001b[39;00m\n",
      "File \u001b[1;32mf:\\python\\lib\\ssl.py:1275\u001b[0m, in \u001b[0;36mSSLSocket.recv_into\u001b[1;34m(self, buffer, nbytes, flags)\u001b[0m\n\u001b[0;32m   1271\u001b[0m     \u001b[39mif\u001b[39;00m flags \u001b[39m!=\u001b[39m \u001b[39m0\u001b[39m:\n\u001b[0;32m   1272\u001b[0m         \u001b[39mraise\u001b[39;00m \u001b[39mValueError\u001b[39;00m(\n\u001b[0;32m   1273\u001b[0m           \u001b[39m\"\u001b[39m\u001b[39mnon-zero flags not allowed in calls to recv_into() on \u001b[39m\u001b[39m%s\u001b[39;00m\u001b[39m\"\u001b[39m \u001b[39m%\u001b[39m\n\u001b[0;32m   1274\u001b[0m           \u001b[39mself\u001b[39m\u001b[39m.\u001b[39m\u001b[39m__class__\u001b[39m)\n\u001b[1;32m-> 1275\u001b[0m     \u001b[39mreturn\u001b[39;00m \u001b[39mself\u001b[39;49m\u001b[39m.\u001b[39;49mread(nbytes, buffer)\n\u001b[0;32m   1276\u001b[0m \u001b[39melse\u001b[39;00m:\n\u001b[0;32m   1277\u001b[0m     \u001b[39mreturn\u001b[39;00m \u001b[39msuper\u001b[39m()\u001b[39m.\u001b[39mrecv_into(buffer, nbytes, flags)\n",
      "File \u001b[1;32mf:\\python\\lib\\ssl.py:1133\u001b[0m, in \u001b[0;36mSSLSocket.read\u001b[1;34m(self, len, buffer)\u001b[0m\n\u001b[0;32m   1131\u001b[0m \u001b[39mtry\u001b[39;00m:\n\u001b[0;32m   1132\u001b[0m     \u001b[39mif\u001b[39;00m buffer \u001b[39mis\u001b[39;00m \u001b[39mnot\u001b[39;00m \u001b[39mNone\u001b[39;00m:\n\u001b[1;32m-> 1133\u001b[0m         \u001b[39mreturn\u001b[39;00m \u001b[39mself\u001b[39;49m\u001b[39m.\u001b[39;49m_sslobj\u001b[39m.\u001b[39;49mread(\u001b[39mlen\u001b[39;49m, buffer)\n\u001b[0;32m   1134\u001b[0m     \u001b[39melse\u001b[39;00m:\n\u001b[0;32m   1135\u001b[0m         \u001b[39mreturn\u001b[39;00m \u001b[39mself\u001b[39m\u001b[39m.\u001b[39m_sslobj\u001b[39m.\u001b[39mread(\u001b[39mlen\u001b[39m)\n",
      "\u001b[1;31mKeyboardInterrupt\u001b[0m: "
     ]
    }
   ],
   "source": [
    "\n",
    "main(['dongcheng', 'haidian', 'tongzhou', 'huairou'])"
   ]
  },
  {
   "cell_type": "code",
   "execution_count": null,
   "metadata": {},
   "outputs": [],
   "source": []
  },
  {
   "cell_type": "code",
   "execution_count": null,
   "metadata": {},
   "outputs": [],
   "source": []
  },
  {
   "cell_type": "code",
   "execution_count": null,
   "metadata": {},
   "outputs": [],
   "source": []
  }
 ],
 "metadata": {
  "kernelspec": {
   "display_name": "base",
   "language": "python",
   "name": "python3"
  },
  "language_info": {
   "codemirror_mode": {
    "name": "ipython",
    "version": 3
   },
   "file_extension": ".py",
   "mimetype": "text/x-python",
   "name": "python",
   "nbconvert_exporter": "python",
   "pygments_lexer": "ipython3",
   "version": "3.9.18"
  },
  "orig_nbformat": 4
 },
 "nbformat": 4,
 "nbformat_minor": 2
}
